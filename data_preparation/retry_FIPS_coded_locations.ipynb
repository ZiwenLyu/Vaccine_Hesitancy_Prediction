{
 "cells": [
  {
   "cell_type": "markdown",
   "id": "11a85b49",
   "metadata": {},
   "source": [
    "## Create vaccine location df with empty FIPS code column"
   ]
  },
  {
   "cell_type": "code",
   "execution_count": null,
   "id": "c553ae7b",
   "metadata": {},
   "outputs": [],
   "source": [
    "# Import dependencies\n",
    "import requests\n",
    "import pandas as pd\n",
    "import os\n",
    "import json\n",
    "import time\n",
    "import csv"
   ]
  },
  {
   "cell_type": "code",
   "execution_count": null,
   "id": "2feb24e1",
   "metadata": {},
   "outputs": [],
   "source": [
    "# files to load\n",
    "vaccine_provider_locations = \"vaccine_provider_locations.csv\""
   ]
  },
  {
   "cell_type": "code",
   "execution_count": null,
   "id": "fb47f163",
   "metadata": {},
   "outputs": [],
   "source": [
    "# read data file to df\n",
    "locations_df = pd.read_csv(vaccine_provider_locations)\n",
    "locations_df.head()"
   ]
  },
  {
   "cell_type": "code",
   "execution_count": null,
   "id": "664ff0d1",
   "metadata": {
    "scrolled": true
   },
   "outputs": [],
   "source": [
    "# add empty FIPs code column\n",
    "locations_df[\"county_FIPS_code\"] = \"\"\n",
    "locations_df.head()"
   ]
  },
  {
   "cell_type": "markdown",
   "id": "6b3bc7f7",
   "metadata": {},
   "source": [
    "## Make API call request using vaccination location coordinates to retrieve respective FIPS code"
   ]
  },
  {
   "cell_type": "code",
   "execution_count": null,
   "id": "426b7c4b",
   "metadata": {},
   "outputs": [],
   "source": [
    "# base url for FCC.gov call request\n",
    "base_url = \"https://geo.fcc.gov/api/census/block/find?\"\n",
    "\n",
    "# test url: check to return Response [400] since it's a blank search\n",
    "test = requests.get(base_url)\n",
    "test"
   ]
  },
  {
   "cell_type": "markdown",
   "id": "8861467f",
   "metadata": {},
   "source": [
    "### Test call"
   ]
  },
  {
   "cell_type": "code",
   "execution_count": null,
   "id": "35e342b0",
   "metadata": {
    "scrolled": false
   },
   "outputs": [],
   "source": [
    "# test\n",
    "lat_test = 46.7216047\n",
    "lng_test = -111.7519263\n",
    "census = 2020\n",
    "\n",
    "# create endpoint url\n",
    "latlng_url = base_url + \"latitude=\" + str(lat_test) + \"&longitude=\" + str(lng_test) + \"&censusYear=\" + str(census) + \"&showall=false&format=json\"\n",
    "\n",
    "# make 'Get' request for county FIPS- JSON format\n",
    "FIPS_test = requests.get(latlng_url).json()\n",
    "FIPS_test"
   ]
  },
  {
   "cell_type": "markdown",
   "id": "9017db4e",
   "metadata": {},
   "source": [
    "### Actual:"
   ]
  },
  {
   "cell_type": "code",
   "execution_count": null,
   "id": "edbb1921",
   "metadata": {},
   "outputs": [],
   "source": [
    "# fixed variables for api call request\n",
    "census = 2020\n",
    "\n",
    "# create counters and begin data logging/retrieval status  \n",
    "record_count = 1\n",
    "set_count = 1\n",
    "\n",
    "print(\"Beginning Data Retrieval     \")\n",
    "print(\"-----------------------------\")\n",
    "\n",
    "# iterate through df to set parameters for call\n",
    "for index, row in locations_df.iterrows():\n",
    "    lat = row['latitude']\n",
    "    lng = row['longitude']\n",
    "    \n",
    "    # create endpoint url with lats and longs\n",
    "    latlng_url = base_url + \"latitude=\" + str(lat) + \"&longitude=\" + str(lng) + \"&censusYear=\" + str(census) + \"&showall=false&format=json\"\n",
    "\n",
    "    # make 'Get' request for county FIPS- JSON format\n",
    "    FIPS = requests.get(latlng_url).json()\n",
    "\n",
    "    # parse JSON to retrieve the data and add to df\n",
    "    #FIPS_code = FIPS['County']['FIPS']\n",
    "    try:\n",
    "        locations_df.loc[index, \"county_FIPS_code\"] = FIPS['County']['FIPS']\n",
    "        \n",
    "    # logging: batch calls in sets of 1000 and update counters \n",
    "        if (index % 1000 == 0 and index >= 1000):\n",
    "            set_count += 1\n",
    "            record_count = 1\n",
    "            time.sleep(20)\n",
    "\n",
    "        # Log record, update record_count\n",
    "        print(f\"Processing Record {record_count} of Set {set_count} | FIPS code provided : {FIPS['County']['FIPS']}\")\n",
    "        record_count += 1\n",
    "    \n",
    "    # If error, skip coordinate pair\n",
    "    except:\n",
    "        print(\"Error occurred... skipping.\")\n",
    "        pass\n",
    "    \n",
    "# indicate call completion\n",
    "print(\"\\n-----------------------------\")\n",
    "print(\"Data Retrieval Complete      \")\n",
    "print(\"-----------------------------\")\n"
   ]
  },
  {
   "cell_type": "code",
   "execution_count": null,
   "id": "315f5ca9",
   "metadata": {
    "scrolled": true
   },
   "outputs": [],
   "source": [
    "locations_df.tail()"
   ]
  },
  {
   "cell_type": "code",
   "execution_count": null,
   "id": "4bba92c2",
   "metadata": {},
   "outputs": [],
   "source": [
    "# write df to csv file\n",
    "locations_df.to_csv('vaccination_FIPS_locations.csv')"
   ]
  },
  {
   "cell_type": "code",
   "execution_count": null,
   "id": "9a1e392b",
   "metadata": {},
   "outputs": [],
   "source": [
    "locations_df.to_json(orient=\"split\")"
   ]
  },
  {
   "cell_type": "code",
   "execution_count": null,
   "id": "eaae3516",
   "metadata": {
    "scrolled": false
   },
   "outputs": [],
   "source": [
    "# write df to json file\n",
    "locations_json = locations_df.to_json(orient=\"split\")\n",
    "locations_parsed = json.loads(locations_json)"
   ]
  },
  {
   "cell_type": "code",
   "execution_count": null,
   "id": "98c0184a",
   "metadata": {},
   "outputs": [],
   "source": [
    "# view json\n",
    "locations_parsed"
   ]
  },
  {
   "cell_type": "markdown",
   "id": "33891b9e",
   "metadata": {},
   "source": [
    "## Create vaccine location df with empty FIPS code column"
   ]
  },
  {
   "cell_type": "code",
   "execution_count": null,
   "id": "23d3acc8",
   "metadata": {},
   "outputs": [],
   "source": [
    "# Import dependencies\n",
    "import requests\n",
    "import pandas as pd\n",
    "import os\n",
    "import json\n",
    "import time\n",
    "import csv"
   ]
  },
  {
   "cell_type": "code",
   "execution_count": null,
   "id": "5322e1e1",
   "metadata": {},
   "outputs": [],
   "source": [
    "# files to load\n",
    "vaccine_provider_locations = \"vaccine_provider_locations.csv\""
   ]
  },
  {
   "cell_type": "code",
   "execution_count": null,
   "id": "62edbcc6",
   "metadata": {},
   "outputs": [],
   "source": [
    "# read data file to df\n",
    "locations_df = pd.read_csv(vaccine_provider_locations)\n",
    "locations_df.head()"
   ]
  },
  {
   "cell_type": "code",
   "execution_count": null,
   "id": "8bc8287e",
   "metadata": {
    "scrolled": true
   },
   "outputs": [],
   "source": [
    "# add empty FIPs code column\n",
    "locations_df[\"county_FIPS_code\"] = \"\"\n",
    "locations_df.head()"
   ]
  },
  {
   "cell_type": "markdown",
   "id": "bc3d3497",
   "metadata": {},
   "source": [
    "## Make API call request using vaccination location coordinates to retrieve respective FIPS code"
   ]
  },
  {
   "cell_type": "code",
   "execution_count": null,
   "id": "23110221",
   "metadata": {},
   "outputs": [],
   "source": [
    "# base url for FCC.gov call request\n",
    "base_url = \"https://geo.fcc.gov/api/census/block/find?\"\n",
    "\n",
    "# test url: check to return Response [400] since it's a blank search\n",
    "test = requests.get(base_url)\n",
    "test"
   ]
  },
  {
   "cell_type": "markdown",
   "id": "719b5ac0",
   "metadata": {},
   "source": [
    "### Test call"
   ]
  },
  {
   "cell_type": "code",
   "execution_count": null,
   "id": "14bdf837",
   "metadata": {
    "scrolled": false
   },
   "outputs": [],
   "source": [
    "# test\n",
    "lat_test = 46.7216047\n",
    "lng_test = -111.7519263\n",
    "census = 2020\n",
    "\n",
    "# create endpoint url\n",
    "latlng_url = base_url + \"latitude=\" + str(lat_test) + \"&longitude=\" + str(lng_test) + \"&censusYear=\" + str(census) + \"&showall=false&format=json\"\n",
    "\n",
    "# make 'Get' request for county FIPS- JSON format\n",
    "FIPS_test = requests.get(latlng_url).json()\n",
    "FIPS_test"
   ]
  },
  {
   "cell_type": "markdown",
   "id": "3c486eed",
   "metadata": {},
   "source": [
    "### Actual:"
   ]
  },
  {
   "cell_type": "code",
   "execution_count": null,
   "id": "55c817ce",
   "metadata": {},
   "outputs": [],
   "source": [
    "# fixed variables for api call request\n",
    "census = 2020\n",
    "\n",
    "# create counters and begin data logging/retrieval status  \n",
    "record_count = 1\n",
    "set_count = 1\n",
    "\n",
    "print(\"Beginning Data Retrieval     \")\n",
    "print(\"-----------------------------\")\n",
    "\n",
    "# iterate through df to set parameters for call\n",
    "for index, row in locations_df.iterrows():\n",
    "    lat = row['latitude']\n",
    "    lng = row['longitude']\n",
    "    \n",
    "    # create endpoint url with lats and longs\n",
    "    latlng_url = base_url + \"latitude=\" + str(lat) + \"&longitude=\" + str(lng) + \"&censusYear=\" + str(census) + \"&showall=false&format=json\"\n",
    "\n",
    "    # make 'Get' request for county FIPS- JSON format\n",
    "    FIPS = requests.get(latlng_url).json()\n",
    "\n",
    "    # parse JSON to retrieve the data and add to df\n",
    "    #FIPS_code = FIPS['County']['FIPS']\n",
    "    try:\n",
    "        locations_df.loc[index, \"county_FIPS_code\"] = FIPS['County']['FIPS']\n",
    "        \n",
    "    # logging: batch calls in sets of 1000 and update counters \n",
    "        if (index % 1000 == 0 and index >= 1000):\n",
    "            set_count += 1\n",
    "            record_count = 1\n",
    "            time.sleep(20)\n",
    "\n",
    "        # Log record, update record_count\n",
    "        print(f\"Processing Record {record_count} of Set {set_count} | FIPS code provided : {FIPS['County']['FIPS']}\")\n",
    "        record_count += 1\n",
    "    \n",
    "    # If error, skip coordinate pair\n",
    "    except:\n",
    "        print(\"Error occurred... skipping.\")\n",
    "        pass\n",
    "    \n",
    "# indicate call completion\n",
    "print(\"\\n-----------------------------\")\n",
    "print(\"Data Retrieval Complete      \")\n",
    "print(\"-----------------------------\")\n"
   ]
  },
  {
   "cell_type": "code",
   "execution_count": null,
   "id": "fa8f79d5",
   "metadata": {
    "scrolled": true
   },
   "outputs": [],
   "source": [
    "locations_df.tail()"
   ]
  },
  {
   "cell_type": "code",
   "execution_count": null,
   "id": "777f1de3",
   "metadata": {},
   "outputs": [],
   "source": [
    "# write df to csv file\n",
    "locations_df.to_csv('vaccination_FIPS_locations.csv')"
   ]
  },
  {
   "cell_type": "code",
   "execution_count": null,
   "id": "3b95c678",
   "metadata": {},
   "outputs": [],
   "source": [
    "locations_df.to_json(orient=\"split\")"
   ]
  },
  {
   "cell_type": "code",
   "execution_count": null,
   "id": "473cdb75",
   "metadata": {
    "scrolled": false
   },
   "outputs": [],
   "source": [
    "# write df to json file\n",
    "locations_json = locations_df.to_json(orient=\"split\")\n",
    "locations_parsed = json.loads(locations_json)"
   ]
  },
  {
   "cell_type": "code",
   "execution_count": null,
   "id": "bc6dcb0a",
   "metadata": {
    "scrolled": false
   },
   "outputs": [],
   "source": [
    "# view json\n",
    "locations_parsed"
   ]
  },
  {
   "cell_type": "code",
   "execution_count": null,
   "id": "83ead9b2",
   "metadata": {},
   "outputs": [],
   "source": []
  }
 ],
 "metadata": {
  "kernelspec": {
   "display_name": "PythonData",
   "language": "python",
   "name": "pythondata"
  },
  "language_info": {
   "codemirror_mode": {
    "name": "ipython",
    "version": 3
   },
   "file_extension": ".py",
   "mimetype": "text/x-python",
   "name": "python",
   "nbconvert_exporter": "python",
   "pygments_lexer": "ipython3",
   "version": "3.7.11"
  }
 },
 "nbformat": 4,
 "nbformat_minor": 5
}
