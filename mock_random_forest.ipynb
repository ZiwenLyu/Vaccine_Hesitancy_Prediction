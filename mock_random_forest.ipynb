{
 "cells": [
  {
   "cell_type": "markdown",
   "id": "6da9f0d4",
   "metadata": {},
   "source": [
    "# Random Forest Model with Mock Data"
   ]
  },
  {
   "cell_type": "code",
   "execution_count": 2,
   "id": "eaa25579",
   "metadata": {},
   "outputs": [],
   "source": [
    "# import dependencies\n",
    "import pandas as pd\n",
    "from path import Path\n",
    "from sklearn.ensemble import RandomForestClassifier\n",
    "from sklearn.preprocessing import StandardScaler\n",
    "from sklearn.model_selection import train_test_split\n",
    "from sklearn.metrics import confusion_matrix, accuracy_score, classification_report"
   ]
  },
  {
   "cell_type": "code",
   "execution_count": 3,
   "id": "22f09559",
   "metadata": {},
   "outputs": [
    {
     "data": {
      "text/html": [
       "<div>\n",
       "<style scoped>\n",
       "    .dataframe tbody tr th:only-of-type {\n",
       "        vertical-align: middle;\n",
       "    }\n",
       "\n",
       "    .dataframe tbody tr th {\n",
       "        vertical-align: top;\n",
       "    }\n",
       "\n",
       "    .dataframe thead th {\n",
       "        text-align: right;\n",
       "    }\n",
       "</style>\n",
       "<table border=\"1\" class=\"dataframe\">\n",
       "  <thead>\n",
       "    <tr style=\"text-align: right;\">\n",
       "      <th></th>\n",
       "      <th>Hesitancy_Level</th>\n",
       "      <th>SVI_Level</th>\n",
       "      <th>CVAC_Concern_Level</th>\n",
       "      <th>Mask_Requirement_Status</th>\n",
       "    </tr>\n",
       "    <tr>\n",
       "      <th>County_FIPS_Code</th>\n",
       "      <th></th>\n",
       "      <th></th>\n",
       "      <th></th>\n",
       "      <th></th>\n",
       "    </tr>\n",
       "  </thead>\n",
       "  <tbody>\n",
       "    <tr>\n",
       "      <th>0</th>\n",
       "      <td>2</td>\n",
       "      <td>5</td>\n",
       "      <td>3</td>\n",
       "      <td>1</td>\n",
       "    </tr>\n",
       "    <tr>\n",
       "      <th>1</th>\n",
       "      <td>1</td>\n",
       "      <td>1</td>\n",
       "      <td>3</td>\n",
       "      <td>1</td>\n",
       "    </tr>\n",
       "    <tr>\n",
       "      <th>2</th>\n",
       "      <td>2</td>\n",
       "      <td>2</td>\n",
       "      <td>1</td>\n",
       "      <td>0</td>\n",
       "    </tr>\n",
       "    <tr>\n",
       "      <th>3</th>\n",
       "      <td>2</td>\n",
       "      <td>4</td>\n",
       "      <td>5</td>\n",
       "      <td>0</td>\n",
       "    </tr>\n",
       "    <tr>\n",
       "      <th>4</th>\n",
       "      <td>1</td>\n",
       "      <td>3</td>\n",
       "      <td>3</td>\n",
       "      <td>0</td>\n",
       "    </tr>\n",
       "  </tbody>\n",
       "</table>\n",
       "</div>"
      ],
      "text/plain": [
       "                  Hesitancy_Level  SVI_Level  CVAC_Concern_Level  \\\n",
       "County_FIPS_Code                                                   \n",
       "0                               2          5                   3   \n",
       "1                               1          1                   3   \n",
       "2                               2          2                   1   \n",
       "3                               2          4                   5   \n",
       "4                               1          3                   3   \n",
       "\n",
       "                  Mask_Requirement_Status  \n",
       "County_FIPS_Code                           \n",
       "0                                       1  \n",
       "1                                       1  \n",
       "2                                       0  \n",
       "3                                       0  \n",
       "4                                       0  "
      ]
     },
     "execution_count": 3,
     "metadata": {},
     "output_type": "execute_result"
    }
   ],
   "source": [
    "# load data\n",
    "data = 'mock_data.csv'\n",
    "mock_df = pd.read_csv(data)\n",
    "\n",
    "# set unique County_FIPS_Code value as index\n",
    "mock_df.set_index(\"County_FIPS_Code\", inplace=True)\n",
    "\n",
    "mock_df.head()"
   ]
  },
  {
   "cell_type": "code",
   "execution_count": 4,
   "id": "fa8f3226",
   "metadata": {},
   "outputs": [
    {
     "data": {
      "text/html": [
       "<div>\n",
       "<style scoped>\n",
       "    .dataframe tbody tr th:only-of-type {\n",
       "        vertical-align: middle;\n",
       "    }\n",
       "\n",
       "    .dataframe tbody tr th {\n",
       "        vertical-align: top;\n",
       "    }\n",
       "\n",
       "    .dataframe thead th {\n",
       "        text-align: right;\n",
       "    }\n",
       "</style>\n",
       "<table border=\"1\" class=\"dataframe\">\n",
       "  <thead>\n",
       "    <tr style=\"text-align: right;\">\n",
       "      <th></th>\n",
       "      <th>Hesitancy_Level</th>\n",
       "      <th>SVI_Level</th>\n",
       "      <th>CVAC_Concern_Level</th>\n",
       "    </tr>\n",
       "    <tr>\n",
       "      <th>County_FIPS_Code</th>\n",
       "      <th></th>\n",
       "      <th></th>\n",
       "      <th></th>\n",
       "    </tr>\n",
       "  </thead>\n",
       "  <tbody>\n",
       "    <tr>\n",
       "      <th>0</th>\n",
       "      <td>2</td>\n",
       "      <td>5</td>\n",
       "      <td>3</td>\n",
       "    </tr>\n",
       "    <tr>\n",
       "      <th>1</th>\n",
       "      <td>1</td>\n",
       "      <td>1</td>\n",
       "      <td>3</td>\n",
       "    </tr>\n",
       "    <tr>\n",
       "      <th>2</th>\n",
       "      <td>2</td>\n",
       "      <td>2</td>\n",
       "      <td>1</td>\n",
       "    </tr>\n",
       "    <tr>\n",
       "      <th>3</th>\n",
       "      <td>2</td>\n",
       "      <td>4</td>\n",
       "      <td>5</td>\n",
       "    </tr>\n",
       "    <tr>\n",
       "      <th>4</th>\n",
       "      <td>1</td>\n",
       "      <td>3</td>\n",
       "      <td>3</td>\n",
       "    </tr>\n",
       "  </tbody>\n",
       "</table>\n",
       "</div>"
      ],
      "text/plain": [
       "                  Hesitancy_Level  SVI_Level  CVAC_Concern_Level\n",
       "County_FIPS_Code                                                \n",
       "0                               2          5                   3\n",
       "1                               1          1                   3\n",
       "2                               2          2                   1\n",
       "3                               2          4                   5\n",
       "4                               1          3                   3"
      ]
     },
     "execution_count": 4,
     "metadata": {},
     "output_type": "execute_result"
    }
   ],
   "source": [
    "# define features set\n",
    "X = mock_df.copy()\n",
    "X = X.drop(\"Mask_Requirement_Status\", axis=1)\n",
    "X.head()"
   ]
  },
  {
   "cell_type": "code",
   "execution_count": 5,
   "id": "b12a3aaa",
   "metadata": {},
   "outputs": [
    {
     "data": {
      "text/plain": [
       "array([1, 1, 0, 0, 0], dtype=int64)"
      ]
     },
     "execution_count": 5,
     "metadata": {},
     "output_type": "execute_result"
    }
   ],
   "source": [
    "# define target set\n",
    "y = mock_df[\"Mask_Requirement_Status\"].ravel()\n",
    "y[:5]"
   ]
  },
  {
   "cell_type": "code",
   "execution_count": 6,
   "id": "33770ff4",
   "metadata": {},
   "outputs": [],
   "source": [
    "# split into train and test sets\n",
    "X_train, X_test, y_train, y_test = train_test_split(X, y, random_state=78)"
   ]
  },
  {
   "cell_type": "code",
   "execution_count": 7,
   "id": "faa6532f",
   "metadata": {},
   "outputs": [],
   "source": [
    "# create a StandardScaler instance\n",
    "scaler = StandardScaler()\n",
    "\n",
    "# fit the Standard Scaler with the training data\n",
    "X_scaler = scaler.fit(X_train)\n",
    "\n",
    "# scale the data\n",
    "X_train_scaled = X_scaler.transform(X_train)\n",
    "X_test_scaled = X_scaler.transform(X_test)"
   ]
  },
  {
   "cell_type": "code",
   "execution_count": 8,
   "id": "36ed4db9",
   "metadata": {},
   "outputs": [],
   "source": [
    "# create a random forest classifier\n",
    "# n_estimator sets the # trees created (best practice 64 to 128).\n",
    "# generally higher number --> stronger/stabler predictions\n",
    "# however, higher training time allocated --> slower output\n",
    "rf_model = RandomForestClassifier(n_estimators=128, random_state=78)"
   ]
  },
  {
   "cell_type": "code",
   "execution_count": 9,
   "id": "71cbfc41",
   "metadata": {},
   "outputs": [],
   "source": [
    "# fit the model\n",
    "rf_model = rf_model.fit(X_train_scaled, y_train)"
   ]
  },
  {
   "cell_type": "code",
   "execution_count": 10,
   "id": "53af67a9",
   "metadata": {},
   "outputs": [
    {
     "data": {
      "text/plain": [
       "array([1, 0, 0, 0, 1, 1, 0, 1, 1, 0, 0, 0, 0, 0, 1, 0, 0, 0, 0, 0, 1, 0,\n",
       "       1, 1, 0, 1, 1, 0, 0, 0, 1, 1, 0, 0, 0, 0, 0, 1, 1, 0, 0, 0, 1, 1,\n",
       "       1, 0, 0, 0, 0, 0, 0, 0, 0, 1, 1, 1, 0, 1, 1, 0, 1, 1, 0, 0, 0, 0,\n",
       "       0, 0, 0, 0, 0, 0, 1, 0, 1, 0, 0, 0, 0, 0, 0, 1, 0, 1, 0, 0, 1, 0,\n",
       "       0, 0, 0, 1, 0, 0, 0, 1, 1, 0, 1, 0, 1, 0, 1, 0, 1, 0, 0, 1, 0, 0,\n",
       "       1, 1, 0, 0, 1, 1, 1, 0, 1, 0, 0, 1, 0, 0, 0, 1, 0, 0, 0, 0, 0, 0,\n",
       "       0, 0, 0, 0, 0, 1, 1, 0, 1, 1, 0, 0, 0, 0, 0, 1, 0, 0, 0, 0, 0, 0,\n",
       "       1, 0, 1, 1, 0, 0, 0, 0, 0, 0, 1, 0, 1, 0, 1, 1, 1, 1, 0, 0, 1, 1,\n",
       "       0, 0, 0, 1, 0, 0, 1, 1, 1, 1, 1, 1, 0, 0, 1, 1, 0, 0, 0, 1, 0, 1,\n",
       "       0, 1, 1, 0, 1, 0, 0, 0, 1, 0, 1, 0, 1, 0, 0, 1, 0, 1, 1, 0, 0, 0,\n",
       "       1, 0, 0, 0, 1, 0, 1, 0, 0, 0, 1, 0, 1, 0, 0, 0, 1, 1, 0, 1, 0, 1,\n",
       "       0, 1, 1, 0, 0, 1, 0, 0], dtype=int64)"
      ]
     },
     "execution_count": 10,
     "metadata": {},
     "output_type": "execute_result"
    }
   ],
   "source": [
    "# predict using testing data\n",
    "predictions = rf_model.predict(X_test_scaled)\n",
    "predictions"
   ]
  },
  {
   "cell_type": "code",
   "execution_count": 19,
   "id": "c21a970e",
   "metadata": {},
   "outputs": [
    {
     "name": "stdout",
     "output_type": "stream",
     "text": [
      "\n",
      "*****Mock Random Forest Model Evaluation*****\n",
      "Accuracy Score : 0.476\n",
      "---------------------------------------\n",
      "Confusion Matrix\n"
     ]
    },
    {
     "data": {
      "text/html": [
       "<div>\n",
       "<style scoped>\n",
       "    .dataframe tbody tr th:only-of-type {\n",
       "        vertical-align: middle;\n",
       "    }\n",
       "\n",
       "    .dataframe tbody tr th {\n",
       "        vertical-align: top;\n",
       "    }\n",
       "\n",
       "    .dataframe thead th {\n",
       "        text-align: right;\n",
       "    }\n",
       "</style>\n",
       "<table border=\"1\" class=\"dataframe\">\n",
       "  <thead>\n",
       "    <tr style=\"text-align: right;\">\n",
       "      <th></th>\n",
       "      <th>Predicted 0</th>\n",
       "      <th>Predicted 1</th>\n",
       "    </tr>\n",
       "  </thead>\n",
       "  <tbody>\n",
       "    <tr>\n",
       "      <th>Actual 0</th>\n",
       "      <td>71</td>\n",
       "      <td>46</td>\n",
       "    </tr>\n",
       "    <tr>\n",
       "      <th>Actual 1</th>\n",
       "      <td>85</td>\n",
       "      <td>48</td>\n",
       "    </tr>\n",
       "  </tbody>\n",
       "</table>\n",
       "</div>"
      ],
      "text/plain": [
       "          Predicted 0  Predicted 1\n",
       "Actual 0           71           46\n",
       "Actual 1           85           48"
      ]
     },
     "metadata": {},
     "output_type": "display_data"
    },
    {
     "name": "stdout",
     "output_type": "stream",
     "text": [
      "---------------------------------------\n",
      "Classification Report\n",
      "\n",
      "              precision    recall  f1-score   support\n",
      "\n",
      "           0       0.46      0.61      0.52       117\n",
      "           1       0.51      0.36      0.42       133\n",
      "\n",
      "    accuracy                           0.48       250\n",
      "   macro avg       0.48      0.48      0.47       250\n",
      "weighted avg       0.48      0.48      0.47       250\n",
      "\n"
     ]
    }
   ],
   "source": [
    "# Model Evaluation:\n",
    "\n",
    "# score the model on accuracy\n",
    "acc_score = accuracy_score(y_test, predictions)\n",
    "\n",
    "# calculate confusion matrix\n",
    "cm = confusion_matrix(y_test, predictions)\n",
    "cm_df = pd.DataFrame(\n",
    "    cm, index=[\"Actual 0\", \"Actual 1\"],\n",
    "    columns=[\"Predicted 0\", \"Predicted 1\"]\n",
    ")\n",
    "\n",
    "# display results\n",
    "print(\"\\n*****Mock Random Forest Model Evaluation*****\")\n",
    "print(f\"Accuracy Score : {acc_score}\")\n",
    "print(\"---------------------------------------\")\n",
    "print(\"Confusion Matrix\")\n",
    "display(cm_df)\n",
    "print(\"---------------------------------------\")\n",
    "print(\"Classification Report\\n\")\n",
    "print(classification_report(y_test, predictions))"
   ]
  },
  {
   "cell_type": "code",
   "execution_count": 12,
   "id": "206f6198",
   "metadata": {},
   "outputs": [],
   "source": [
    "# for actual data: raise n_estimator to 500 to improve prediction\n",
    "#rf_model = RandomForestClassifier(n_estimators=500, random_state=78)"
   ]
  },
  {
   "cell_type": "code",
   "execution_count": 13,
   "id": "fe043148",
   "metadata": {},
   "outputs": [],
   "source": [
    "# fit/train the model with new n_estimator\n",
    "#rf_model = rf_model.fit(X_train_scaled, y_train)"
   ]
  },
  {
   "cell_type": "code",
   "execution_count": 14,
   "id": "6c0b0856",
   "metadata": {},
   "outputs": [],
   "source": [
    "# predict using testing data\n",
    "#predictions = rf_model.predict(X_test_scaled)\n",
    "#predictions"
   ]
  },
  {
   "cell_type": "code",
   "execution_count": 15,
   "id": "e289e297",
   "metadata": {},
   "outputs": [],
   "source": [
    "# Model Evaluation:\n",
    "\n",
    "# score the model on accuracy\n",
    "#acc_score = accuracy_score(y_test, predictions)\n",
    "\n",
    "# calculate confusion matrix\n",
    "#cm = confusion_matrix(y_test, predictions)\n",
    "#cm_df = pd.DataFrame(\n",
    "#    cm, index=[\"Actual 0\", \"Actual 1\"],\n",
    "#    columns=[\"Predicted 0\", \"Predicted 1\"]\n",
    "#)\n",
    "\n",
    "# display results\n",
    "#print(\"\\n*****Mock Random Forest Model Evaluation*****\")\n",
    "#print(f\"Accuracy Score : {acc_score}\")\n",
    "#print(\"---------------------------------------\")\n",
    "#print(\"Confusion Matrix\")\n",
    "#display(cm_df)\n",
    "#print(\"---------------------------------------\")\n",
    "#print(\"Classification Report\\n\")\n",
    "#print(classification_report(y_test, predictions))"
   ]
  },
  {
   "cell_type": "code",
   "execution_count": 16,
   "id": "9327be90",
   "metadata": {},
   "outputs": [
    {
     "name": "stdout",
     "output_type": "stream",
     "text": [
      "Importances : [0.18566826 0.42666647 0.38766527]\n"
     ]
    }
   ],
   "source": [
    "# calculate feature importance in the Random Forest model\n",
    "importances = rf_model.feature_importances_\n",
    "print(f\"Importances : {importances}\") #returns array of scores for X-test set; sum=1"
   ]
  },
  {
   "cell_type": "code",
   "execution_count": 17,
   "id": "1d7fe067",
   "metadata": {},
   "outputs": [
    {
     "data": {
      "text/plain": [
       "[(0.42666646987225343, 'SVI_Level'),\n",
       " (0.38766526748356916, 'CVAC_Concern_Level'),\n",
       " (0.18566826264417752, 'Hesitancy_Level')]"
      ]
     },
     "execution_count": 17,
     "metadata": {},
     "output_type": "execute_result"
    }
   ],
   "source": [
    "# sort features by their importance\n",
    "sorted(zip(rf_model.feature_importances_, X.columns), reverse=True)"
   ]
  }
 ],
 "metadata": {
  "kernelspec": {
   "display_name": "Python 3 (ipykernel)",
   "language": "python",
   "name": "python3"
  },
  "language_info": {
   "codemirror_mode": {
    "name": "ipython",
    "version": 3
   },
   "file_extension": ".py",
   "mimetype": "text/x-python",
   "name": "python",
   "nbconvert_exporter": "python",
   "pygments_lexer": "ipython3",
   "version": "3.7.11"
  }
 },
 "nbformat": 4,
 "nbformat_minor": 5
}
