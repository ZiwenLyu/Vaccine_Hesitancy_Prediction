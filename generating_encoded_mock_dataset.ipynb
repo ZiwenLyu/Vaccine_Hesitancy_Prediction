{
 "cells": [
  {
   "cell_type": "markdown",
   "metadata": {},
   "source": [
    " # Generating Mock Dataset for Predicting Mask Mandates"
   ]
  },
  {
   "cell_type": "code",
   "execution_count": 12,
   "metadata": {},
   "outputs": [],
   "source": [
    "# import dependencies\n",
    "from path import Path\n",
    "import pandas as pd\n",
    "import random\n",
    "import csv\n",
    "import os"
   ]
  },
  {
   "cell_type": "code",
   "execution_count": 3,
   "metadata": {
    "scrolled": false
   },
   "outputs": [
    {
     "name": "stdout",
     "output_type": "stream",
     "text": [
      "\n",
      "\n",
      "*****Mock Dataframe*****\n"
     ]
    },
    {
     "data": {
      "text/html": [
       "<div>\n",
       "<style scoped>\n",
       "    .dataframe tbody tr th:only-of-type {\n",
       "        vertical-align: middle;\n",
       "    }\n",
       "\n",
       "    .dataframe tbody tr th {\n",
       "        vertical-align: top;\n",
       "    }\n",
       "\n",
       "    .dataframe thead th {\n",
       "        text-align: right;\n",
       "    }\n",
       "</style>\n",
       "<table border=\"1\" class=\"dataframe\">\n",
       "  <thead>\n",
       "    <tr style=\"text-align: right;\">\n",
       "      <th></th>\n",
       "      <th>Hesitancy_Level</th>\n",
       "      <th>SVI_Level</th>\n",
       "      <th>CVAC_Concern_Level</th>\n",
       "      <th>Mask_Requirement_Status</th>\n",
       "    </tr>\n",
       "    <tr>\n",
       "      <th>County_FIPS_Code</th>\n",
       "      <th></th>\n",
       "      <th></th>\n",
       "      <th></th>\n",
       "      <th></th>\n",
       "    </tr>\n",
       "  </thead>\n",
       "  <tbody>\n",
       "    <tr>\n",
       "      <th>0</th>\n",
       "      <td>2</td>\n",
       "      <td>5</td>\n",
       "      <td>3</td>\n",
       "      <td>1</td>\n",
       "    </tr>\n",
       "    <tr>\n",
       "      <th>1</th>\n",
       "      <td>1</td>\n",
       "      <td>1</td>\n",
       "      <td>3</td>\n",
       "      <td>1</td>\n",
       "    </tr>\n",
       "    <tr>\n",
       "      <th>2</th>\n",
       "      <td>2</td>\n",
       "      <td>2</td>\n",
       "      <td>1</td>\n",
       "      <td>0</td>\n",
       "    </tr>\n",
       "    <tr>\n",
       "      <th>3</th>\n",
       "      <td>2</td>\n",
       "      <td>4</td>\n",
       "      <td>5</td>\n",
       "      <td>0</td>\n",
       "    </tr>\n",
       "    <tr>\n",
       "      <th>4</th>\n",
       "      <td>1</td>\n",
       "      <td>3</td>\n",
       "      <td>3</td>\n",
       "      <td>0</td>\n",
       "    </tr>\n",
       "  </tbody>\n",
       "</table>\n",
       "</div>"
      ],
      "text/plain": [
       "                  Hesitancy_Level  SVI_Level  CVAC_Concern_Level  \\\n",
       "County_FIPS_Code                                                   \n",
       "0                               2          5                   3   \n",
       "1                               1          1                   3   \n",
       "2                               2          2                   1   \n",
       "3                               2          4                   5   \n",
       "4                               1          3                   3   \n",
       "\n",
       "                  Mask_Requirement_Status  \n",
       "County_FIPS_Code                           \n",
       "0                                       1  \n",
       "1                                       1  \n",
       "2                                       0  \n",
       "3                                       0  \n",
       "4                                       0  "
      ]
     },
     "execution_count": 3,
     "metadata": {},
     "output_type": "execute_result"
    }
   ],
   "source": [
    "# initialize mock dataframe\n",
    "mock_df = pd.DataFrame()\n",
    "\n",
    "# create 1,000 rows of random data in columns resembling actual data\n",
    "mock_df[\"County_FIPS_Code\"] = list(range(1000))\n",
    "mock_df[\"Hesitancy_Level\"] = [random.randrange(1, 4, step=1) for i in range(1000)]\n",
    "mock_df[\"SVI_Level\"] = [random.randrange(1, 6, step=1) for i in range(1000)]\n",
    "mock_df[\"CVAC_Concern_Level\"] = [random.randrange(1, 6, step=1) for i in range(1000)]\n",
    "mock_df[\"Mask_Requirement_Status\"] = [random.randrange(0, 2, step=1) for i in range(1000)]\n",
    "\n",
    "# set unique County_FIPS_Code value as index\n",
    "mock_df.set_index(\"County_FIPS_Code\", inplace=True)\n",
    "\n",
    "# for actual data, will drop duplicative columns:\n",
    "#mock_df.drop(['County_Name', 'State_Tribe_Territory'], axis=1, inplace=True)\n",
    "\n",
    "# show first 5 rows\n",
    "print(\"\\n\\n*****Mock Dataframe*****\")\n",
    "mock_df.head(5)"
   ]
  },
  {
   "cell_type": "code",
   "execution_count": 4,
   "metadata": {},
   "outputs": [],
   "source": [
    "# write df to csv file\n",
    "mock_df.to_csv('mock_data.csv')"
   ]
  }
 ],
 "metadata": {
  "file_extension": ".py",
  "kernelspec": {
   "display_name": "Python 3 (ipykernel)",
   "language": "python",
   "name": "python3"
  },
  "language_info": {
   "codemirror_mode": {
    "name": "ipython",
    "version": 3
   },
   "file_extension": ".py",
   "mimetype": "text/x-python",
   "name": "python",
   "nbconvert_exporter": "python",
   "pygments_lexer": "ipython3",
   "version": "3.7.11"
  },
  "mimetype": "text/x-python",
  "name": "python",
  "npconvert_exporter": "python",
  "pygments_lexer": "ipython3",
  "version": 3
 },
 "nbformat": 4,
 "nbformat_minor": 4
}
